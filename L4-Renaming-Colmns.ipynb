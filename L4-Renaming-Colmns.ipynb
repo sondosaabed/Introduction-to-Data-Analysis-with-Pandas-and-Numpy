{
 "cells": [
  {
   "cell_type": "markdown",
   "metadata": {},
   "source": [
    "### Renaming Columns\n",
    "On the previous page, we dropped columns that we decided were not relevant. But what if we need columns and they are not named the same? We'll have to rename them to make them consistent.\n",
    "Two Ways to Rename Columns\n",
    "\n",
    "We'll use the DataFrame's .rename() method to rename the columns and make them uniform. This method can work with either a dictionary or a function that maps the old names to the new ones. Follow along in the notebook below to learn more about these two ways we can perform this task.\n",
    "Exercise: Rename Column Labels\n",
    "\n",
    "Change the \"Sales Area\" column label in the 2008 dataset to \"Cert Region\" for consistency.\n",
    "\n",
    "Rename all column labels to replace spaces with underscores and convert everything to lowercase.\n",
    "\n",
    "Underscores can be much easier to work with in Python than spaces. For example, having spaces wouldn't allow you to use df.column_name instead of df['column_name'] to select columns or use query(). Being consistent with lowercase and underscores also helps make column names easy to remember.\n"
   ]
  }
 ],
 "metadata": {
  "language_info": {
   "name": "python"
  }
 },
 "nbformat": 4,
 "nbformat_minor": 2
}
