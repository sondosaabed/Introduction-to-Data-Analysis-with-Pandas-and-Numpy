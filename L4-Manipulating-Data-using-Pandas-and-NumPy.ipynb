{
 "cells": [
  {
   "cell_type": "markdown",
   "metadata": {},
   "source": [
    "## In this lesson\n",
    "- Using pandas for basic data cleaning\n",
    "    - Incorrect data types, duplicates, missing data\n",
    "    - dropping data\n",
    "    - renaming columns\n",
    "- Filterimng data into subsets (quiries)\n",
    "    - selecting based on strings\n",
    "    - selecting based on numerical data\n",
    "- concatinating through merging and combining\n",
    "    - inner join, outer join, left join, right join\n",
    "    - lebeling after join\n",
    "- expanding data through pandas explode\n",
    "    - expand lists to columns\n",
    "    - expand vertically\n",
    "    - expand horiziontally"
   ]
  },
  {
   "cell_type": "code",
   "execution_count": null,
   "metadata": {},
   "outputs": [],
   "source": []
  }
 ],
 "metadata": {
  "language_info": {
   "name": "python"
  }
 },
 "nbformat": 4,
 "nbformat_minor": 2
}
