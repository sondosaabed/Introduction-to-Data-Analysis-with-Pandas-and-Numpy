{
 "cells": [
  {
   "cell_type": "markdown",
   "metadata": {},
   "source": [
    "## Histogram\n",
    "- Displays the distribution of numerical data.\n",
    "- Divides data into bins and shows frequency of observations in each bin.\n",
    "\n",
    "![image](https://github.com/sondosaabed/Introduction-to-Data-Analysis-with-Pandas-and-Numpy/assets/65151701/4e48da3a-1b98-466c-b05e-c5573f3ead22)\n",
    "\n",
    "Histogram Plot with x axis is values and y axis is the count of those values"
   ]
  },
  {
   "cell_type": "markdown",
   "metadata": {},
   "source": [
    "## Bar Chart\n",
    "- Compares different categories.\n",
    "- Shows values as bars of different lengths.\n",
    "\n",
    "![image](https://github.com/sondosaabed/Introduction-to-Data-Analysis-with-Pandas-and-Numpy/assets/65151701/d0b6d790-f79d-4cf5-9c94-98d953127d0c)\n",
    "\n",
    "Bar Chart of x axis of quantiles and y axis values"
   ]
  },
  {
   "cell_type": "markdown",
   "metadata": {},
   "source": [
    "## Pie Chart\n",
    "\n",
    "- Shows the proportion of different categories.\n",
    "- Displays as slices of a pie.\n",
    "\n",
    "![image](https://github.com/sondosaabed/Introduction-to-Data-Analysis-with-Pandas-and-Numpy/assets/65151701/7143b492-df09-439a-8c58-ed8c86e34956)\n",
    "\n",
    "Pie chart of mean values for different columns"
   ]
  },
  {
   "cell_type": "markdown",
   "metadata": {},
   "source": [
    "## Scatter Plot\n",
    "\n",
    "- Displays the relationship between two numerical variables.\n",
    "- Plots points on a two-dimensional graph.\n",
    "- Positive correlation of the two variables if the slope is increasing from left to right (positive slope).\n",
    "- Negative correlation of the two variables if the slope is decreasing from left to right (negative slope).\n",
    "\n",
    "![image](https://github.com/sondosaabed/Introduction-to-Data-Analysis-with-Pandas-and-Numpy/assets/65151701/23d2cb31-2b56-468c-b192-7e180eb7bfd2)\n",
    "\n",
    "Scatter plot of two variables, PE vs AT, generally sloping down in a negative slope"
   ]
  },
  {
   "cell_type": "markdown",
   "metadata": {},
   "source": [
    "## Box Plot\n",
    "- Displays the distribution of numerical data.\n",
    "- Shows five key values: minimum, first quartile, median, third quartile, and maximum.\n",
    "\n",
    "![image](https://github.com/sondosaabed/Introduction-to-Data-Analysis-with-Pandas-and-Numpy/assets/65151701/08c26f74-6eac-4c41-ad89-4b9752b0c75e)\n",
    "\n",
    "Box plot of AT with min, max, and lower, median, and upper quartiles"
   ]
  },
  {
   "cell_type": "markdown",
   "metadata": {},
   "source": [
    "These are a few of the parameters you can change in pandas' .plot() method.\n",
    "figsize\n",
    "\n",
    "This parameter in the .plot() method of Pandas allows you to set the size of the figure or plot. The syntax for setting this parameter is df.plot(figsize=(width, height)), where width and height are the desired dimensions in inches. For example, df.plot(figsize=(10, 5)) will create a plot with a width of 10 inches and a height of 5 inches.\n",
    "title\n",
    "\n",
    "You can add titles to your Pandas plot by using the title parameter in the .plot() method. The syntax is df.plot(title='Title of Plot'). This will add a title to your plot with the specified text.\n",
    "xlabel, ylabel, and ylim\n",
    "\n",
    "You can customize the labels and other properties of the x-axis and y-axis of your Pandas plot by using the xlabel, ylabel, and ylim parameters. The syntax for setting these parameters is as follows:\n",
    "\n",
    "df.plot(xlabel='X Axis Label') # sets the label for the x-axis\n",
    "df.plot(ylabel='Y Axis Label') # sets the label for the y-axis\n",
    "df.plot(ylim=(min_value, max_value)) # sets the minimum and maximum values for the y-axis\n",
    "\n",
    "color\n",
    "\n",
    "You can color your Pandas plot using the color parameter in the .plot() method. The syntax for setting this parameter is df.plot(color='color_name'). You can use any valid color name (e.g. 'blue', 'red', 'green') or a hexadecimal color code (e.g. '#0026ff') to set the color.\n",
    "legend\n",
    "\n",
    "The legend in a Pandas plot provides a key to identify the different lines or plots in the figure. You can add a legend to your plot by using the legend parameter in the .plot() method. The syntax for setting this parameter is df.plot(legend=True). If you set legend to True, the default legend will be added to your plot.\n",
    "\n",
    "You may have already seen these in visualizations throughout this lesson, but having a greater understanding of these and more are greatly valuable in communicating your findings."
   ]
  }
 ],
 "metadata": {
  "language_info": {
   "name": "python"
  }
 },
 "nbformat": 4,
 "nbformat_minor": 2
}
