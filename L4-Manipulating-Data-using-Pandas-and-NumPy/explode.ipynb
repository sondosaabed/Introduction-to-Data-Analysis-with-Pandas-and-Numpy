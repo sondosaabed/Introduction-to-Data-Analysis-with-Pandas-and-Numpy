{
 "cells": [
  {
   "cell_type": "markdown",
   "id": "6c3a0d81-c5bb-493f-8c39-0a3afeaa1a76",
   "metadata": {},
   "source": [
    "# Pandas Explode\n",
    "You may find yourself with a dataset that contains a list of values in a single column. But what you really want is to bring the values from the list into many rows or many columns. So, how do you do that? Using the pandas `.explode()` method and others give you the tools to perform this. For more in depth information about it, you can find it [here](https://pandas.pydata.org/docs/reference/api/pandas.DataFrame.explode.html).  \n",
    "\n",
    "Let's practice the different ways we can using `explode`."
   ]
  },
  {
   "cell_type": "code",
   "execution_count": 1,
   "id": "2bae4b98-b97d-41d3-b451-b5819b847193",
   "metadata": {
    "tags": []
   },
   "outputs": [],
   "source": [
    "import numpy as np\n",
    "import pandas as pd"
   ]
  },
  {
   "cell_type": "code",
   "execution_count": 2,
   "id": "bfadfbcc-bc8c-4390-a746-ab5782a9b49e",
   "metadata": {
    "tags": []
   },
   "outputs": [
    {
     "data": {
      "text/plain": [
       "array([[0.56, 0.62, 0.86, 0.46, 0.64],\n",
       "       [0.78, 0.65, 0.1 , 0.69, 0.76],\n",
       "       [0.73, 0.53, 0.75, 0.76, 0.65],\n",
       "       [0.26, 0.24, 0.99, 0.54, 0.8 ],\n",
       "       [0.28, 0.51, 0.96, 0.56, 0.45],\n",
       "       [0.17, 0.52, 0.1 , 0.03, 0.4 ],\n",
       "       [0.9 , 0.03, 0.67, 0.01, 0.23],\n",
       "       [0.83, 0.16, 0.65, 0.75, 0.91],\n",
       "       [0.3 , 0.12, 0.04, 0.71, 0.46],\n",
       "       [0.35, 0.8 , 0.15, 0.32, 0.32],\n",
       "       [0.48, 0.08, 0.16, 0.14, 0.67],\n",
       "       [0.12, 0.67, 0.92, 0.38, 0.29],\n",
       "       [0.68, 0.76, 0.46, 0.69, 0.47],\n",
       "       [0.31, 0.67, 0.39, 0.13, 0.08],\n",
       "       [0.  , 0.45, 0.26, 0.91, 0.28],\n",
       "       [0.43, 0.41, 0.85, 0.74, 0.16],\n",
       "       [0.31, 0.2 , 0.44, 0.54, 0.58],\n",
       "       [0.45, 0.06, 0.99, 0.97, 0.25],\n",
       "       [0.87, 0.28, 0.85, 0.18, 0.91],\n",
       "       [0.8 , 0.62, 0.68, 0.81, 0.58],\n",
       "       [0.44, 0.41, 0.93, 0.88, 0.61],\n",
       "       [0.1 , 0.07, 0.57, 0.77, 0.64],\n",
       "       [0.99, 0.  , 0.65, 0.62, 0.71],\n",
       "       [0.68, 0.42, 0.63, 0.95, 0.71],\n",
       "       [0.04, 0.87, 0.99, 0.98, 0.7 ]])"
      ]
     },
     "execution_count": 2,
     "metadata": {},
     "output_type": "execute_result"
    }
   ],
   "source": [
    "# Create a random array\n",
    "array = np.random.rand(25, 5).round(decimals=2)\n",
    "array"
   ]
  },
  {
   "cell_type": "markdown",
   "id": "f55688dd-ad30-424d-8934-94c89d334a2d",
   "metadata": {},
   "source": [
    "## Explode a list of values into rows"
   ]
  },
  {
   "cell_type": "code",
   "execution_count": 3,
   "id": "8e7e5920-1dba-4524-9f9c-829e07aa28fe",
   "metadata": {
    "tags": []
   },
   "outputs": [
    {
     "data": {
      "text/html": [
       "<div>\n",
       "<style scoped>\n",
       "    .dataframe tbody tr th:only-of-type {\n",
       "        vertical-align: middle;\n",
       "    }\n",
       "\n",
       "    .dataframe tbody tr th {\n",
       "        vertical-align: top;\n",
       "    }\n",
       "\n",
       "    .dataframe thead th {\n",
       "        text-align: right;\n",
       "    }\n",
       "</style>\n",
       "<table border=\"1\" class=\"dataframe\">\n",
       "  <thead>\n",
       "    <tr style=\"text-align: right;\">\n",
       "      <th></th>\n",
       "      <th>list_values</th>\n",
       "    </tr>\n",
       "  </thead>\n",
       "  <tbody>\n",
       "    <tr>\n",
       "      <th>0</th>\n",
       "      <td>[0.56, 0.62, 0.86, 0.46, 0.64]</td>\n",
       "    </tr>\n",
       "    <tr>\n",
       "      <th>1</th>\n",
       "      <td>[0.78, 0.65, 0.1, 0.69, 0.76]</td>\n",
       "    </tr>\n",
       "    <tr>\n",
       "      <th>2</th>\n",
       "      <td>[0.73, 0.53, 0.75, 0.76, 0.65]</td>\n",
       "    </tr>\n",
       "    <tr>\n",
       "      <th>3</th>\n",
       "      <td>[0.26, 0.24, 0.99, 0.54, 0.8]</td>\n",
       "    </tr>\n",
       "    <tr>\n",
       "      <th>4</th>\n",
       "      <td>[0.28, 0.51, 0.96, 0.56, 0.45]</td>\n",
       "    </tr>\n",
       "  </tbody>\n",
       "</table>\n",
       "</div>"
      ],
      "text/plain": [
       "                      list_values\n",
       "0  [0.56, 0.62, 0.86, 0.46, 0.64]\n",
       "1   [0.78, 0.65, 0.1, 0.69, 0.76]\n",
       "2  [0.73, 0.53, 0.75, 0.76, 0.65]\n",
       "3   [0.26, 0.24, 0.99, 0.54, 0.8]\n",
       "4  [0.28, 0.51, 0.96, 0.56, 0.45]"
      ]
     },
     "execution_count": 3,
     "metadata": {},
     "output_type": "execute_result"
    }
   ],
   "source": [
    "# create dataframe with single column\n",
    "df = pd.DataFrame({\"list_values\": array.tolist()})\n",
    "df.head()"
   ]
  },
  {
   "cell_type": "code",
   "execution_count": 4,
   "id": "fde9f073-c8f5-4477-94ea-55afec8b96b0",
   "metadata": {
    "tags": []
   },
   "outputs": [
    {
     "name": "stdout",
     "output_type": "stream",
     "text": [
      "<class 'pandas.core.frame.DataFrame'>\n",
      "RangeIndex: 25 entries, 0 to 24\n",
      "Data columns (total 1 columns):\n",
      " #   Column       Non-Null Count  Dtype \n",
      "---  ------       --------------  ----- \n",
      " 0   list_values  25 non-null     object\n",
      "dtypes: object(1)\n",
      "memory usage: 328.0+ bytes\n"
     ]
    }
   ],
   "source": [
    "df.info()"
   ]
  },
  {
   "cell_type": "code",
   "execution_count": 5,
   "id": "e134d16d-5340-455d-a5ed-943d2a78b366",
   "metadata": {
    "tags": []
   },
   "outputs": [
    {
     "data": {
      "text/plain": [
       "list"
      ]
     },
     "execution_count": 5,
     "metadata": {},
     "output_type": "execute_result"
    }
   ],
   "source": [
    "# each value is a list\n",
    "type(df.iloc[0][0])"
   ]
  },
  {
   "cell_type": "code",
   "execution_count": 6,
   "id": "c9f16694-385a-4bc6-b734-0472f5fc9856",
   "metadata": {
    "tags": []
   },
   "outputs": [
    {
     "data": {
      "text/html": [
       "<div>\n",
       "<style scoped>\n",
       "    .dataframe tbody tr th:only-of-type {\n",
       "        vertical-align: middle;\n",
       "    }\n",
       "\n",
       "    .dataframe tbody tr th {\n",
       "        vertical-align: top;\n",
       "    }\n",
       "\n",
       "    .dataframe thead th {\n",
       "        text-align: right;\n",
       "    }\n",
       "</style>\n",
       "<table border=\"1\" class=\"dataframe\">\n",
       "  <thead>\n",
       "    <tr style=\"text-align: right;\">\n",
       "      <th></th>\n",
       "      <th>list_values</th>\n",
       "    </tr>\n",
       "  </thead>\n",
       "  <tbody>\n",
       "    <tr>\n",
       "      <th>0</th>\n",
       "      <td>0.56</td>\n",
       "    </tr>\n",
       "    <tr>\n",
       "      <th>0</th>\n",
       "      <td>0.62</td>\n",
       "    </tr>\n",
       "    <tr>\n",
       "      <th>0</th>\n",
       "      <td>0.86</td>\n",
       "    </tr>\n",
       "    <tr>\n",
       "      <th>0</th>\n",
       "      <td>0.46</td>\n",
       "    </tr>\n",
       "    <tr>\n",
       "      <th>0</th>\n",
       "      <td>0.64</td>\n",
       "    </tr>\n",
       "    <tr>\n",
       "      <th>...</th>\n",
       "      <td>...</td>\n",
       "    </tr>\n",
       "    <tr>\n",
       "      <th>24</th>\n",
       "      <td>0.04</td>\n",
       "    </tr>\n",
       "    <tr>\n",
       "      <th>24</th>\n",
       "      <td>0.87</td>\n",
       "    </tr>\n",
       "    <tr>\n",
       "      <th>24</th>\n",
       "      <td>0.99</td>\n",
       "    </tr>\n",
       "    <tr>\n",
       "      <th>24</th>\n",
       "      <td>0.98</td>\n",
       "    </tr>\n",
       "    <tr>\n",
       "      <th>24</th>\n",
       "      <td>0.7</td>\n",
       "    </tr>\n",
       "  </tbody>\n",
       "</table>\n",
       "<p>125 rows × 1 columns</p>\n",
       "</div>"
      ],
      "text/plain": [
       "   list_values\n",
       "0         0.56\n",
       "0         0.62\n",
       "0         0.86\n",
       "0         0.46\n",
       "0         0.64\n",
       "..         ...\n",
       "24        0.04\n",
       "24        0.87\n",
       "24        0.99\n",
       "24        0.98\n",
       "24         0.7\n",
       "\n",
       "[125 rows x 1 columns]"
      ]
     },
     "execution_count": 6,
     "metadata": {},
     "output_type": "execute_result"
    }
   ],
   "source": [
    "# separate list into row with replicating index values\n",
    "df.explode(column=\"list_values\")"
   ]
  },
  {
   "cell_type": "markdown",
   "id": "b85044a1-479a-4d4e-a262-5f0f23906900",
   "metadata": {},
   "source": [
    "## Explode a list of values into columns"
   ]
  },
  {
   "cell_type": "code",
   "execution_count": 7,
   "id": "ae024a5b-1fb1-4dcb-8420-130234e8cd54",
   "metadata": {
    "tags": []
   },
   "outputs": [
    {
     "data": {
      "text/html": [
       "<div>\n",
       "<style scoped>\n",
       "    .dataframe tbody tr th:only-of-type {\n",
       "        vertical-align: middle;\n",
       "    }\n",
       "\n",
       "    .dataframe tbody tr th {\n",
       "        vertical-align: top;\n",
       "    }\n",
       "\n",
       "    .dataframe thead th {\n",
       "        text-align: right;\n",
       "    }\n",
       "</style>\n",
       "<table border=\"1\" class=\"dataframe\">\n",
       "  <thead>\n",
       "    <tr style=\"text-align: right;\">\n",
       "      <th></th>\n",
       "      <th>0</th>\n",
       "      <th>1</th>\n",
       "      <th>2</th>\n",
       "      <th>3</th>\n",
       "      <th>4</th>\n",
       "    </tr>\n",
       "  </thead>\n",
       "  <tbody>\n",
       "    <tr>\n",
       "      <th>0</th>\n",
       "      <td>0.56</td>\n",
       "      <td>0.62</td>\n",
       "      <td>0.86</td>\n",
       "      <td>0.46</td>\n",
       "      <td>0.64</td>\n",
       "    </tr>\n",
       "    <tr>\n",
       "      <th>1</th>\n",
       "      <td>0.78</td>\n",
       "      <td>0.65</td>\n",
       "      <td>0.10</td>\n",
       "      <td>0.69</td>\n",
       "      <td>0.76</td>\n",
       "    </tr>\n",
       "    <tr>\n",
       "      <th>2</th>\n",
       "      <td>0.73</td>\n",
       "      <td>0.53</td>\n",
       "      <td>0.75</td>\n",
       "      <td>0.76</td>\n",
       "      <td>0.65</td>\n",
       "    </tr>\n",
       "    <tr>\n",
       "      <th>3</th>\n",
       "      <td>0.26</td>\n",
       "      <td>0.24</td>\n",
       "      <td>0.99</td>\n",
       "      <td>0.54</td>\n",
       "      <td>0.80</td>\n",
       "    </tr>\n",
       "    <tr>\n",
       "      <th>4</th>\n",
       "      <td>0.28</td>\n",
       "      <td>0.51</td>\n",
       "      <td>0.96</td>\n",
       "      <td>0.56</td>\n",
       "      <td>0.45</td>\n",
       "    </tr>\n",
       "  </tbody>\n",
       "</table>\n",
       "</div>"
      ],
      "text/plain": [
       "      0     1     2     3     4\n",
       "0  0.56  0.62  0.86  0.46  0.64\n",
       "1  0.78  0.65  0.10  0.69  0.76\n",
       "2  0.73  0.53  0.75  0.76  0.65\n",
       "3  0.26  0.24  0.99  0.54  0.80\n",
       "4  0.28  0.51  0.96  0.56  0.45"
      ]
     },
     "execution_count": 7,
     "metadata": {},
     "output_type": "execute_result"
    }
   ],
   "source": [
    "# separate list into column by column\n",
    "pd.DataFrame(df.list_values.values.tolist()).head()"
   ]
  },
  {
   "cell_type": "markdown",
   "id": "b903a219-d2e1-4ac4-8f70-124bdc84ba13",
   "metadata": {},
   "source": [
    "## Explode a string representation of a list into columns"
   ]
  },
  {
   "cell_type": "code",
   "execution_count": 8,
   "id": "47645400-ea21-4e5f-aa20-fecbf0395c80",
   "metadata": {
    "tags": []
   },
   "outputs": [
    {
     "data": {
      "text/html": [
       "<div>\n",
       "<style scoped>\n",
       "    .dataframe tbody tr th:only-of-type {\n",
       "        vertical-align: middle;\n",
       "    }\n",
       "\n",
       "    .dataframe tbody tr th {\n",
       "        vertical-align: top;\n",
       "    }\n",
       "\n",
       "    .dataframe thead th {\n",
       "        text-align: right;\n",
       "    }\n",
       "</style>\n",
       "<table border=\"1\" class=\"dataframe\">\n",
       "  <thead>\n",
       "    <tr style=\"text-align: right;\">\n",
       "      <th></th>\n",
       "      <th>list_values</th>\n",
       "    </tr>\n",
       "  </thead>\n",
       "  <tbody>\n",
       "    <tr>\n",
       "      <th>0</th>\n",
       "      <td>[0.56, 0.62, 0.86, 0.46, 0.64]</td>\n",
       "    </tr>\n",
       "    <tr>\n",
       "      <th>1</th>\n",
       "      <td>[0.78, 0.65, 0.1, 0.69, 0.76]</td>\n",
       "    </tr>\n",
       "    <tr>\n",
       "      <th>2</th>\n",
       "      <td>[0.73, 0.53, 0.75, 0.76, 0.65]</td>\n",
       "    </tr>\n",
       "    <tr>\n",
       "      <th>3</th>\n",
       "      <td>[0.26, 0.24, 0.99, 0.54, 0.8]</td>\n",
       "    </tr>\n",
       "    <tr>\n",
       "      <th>4</th>\n",
       "      <td>[0.28, 0.51, 0.96, 0.56, 0.45]</td>\n",
       "    </tr>\n",
       "  </tbody>\n",
       "</table>\n",
       "</div>"
      ],
      "text/plain": [
       "                      list_values\n",
       "0  [0.56, 0.62, 0.86, 0.46, 0.64]\n",
       "1   [0.78, 0.65, 0.1, 0.69, 0.76]\n",
       "2  [0.73, 0.53, 0.75, 0.76, 0.65]\n",
       "3   [0.26, 0.24, 0.99, 0.54, 0.8]\n",
       "4  [0.28, 0.51, 0.96, 0.56, 0.45]"
      ]
     },
     "execution_count": 8,
     "metadata": {},
     "output_type": "execute_result"
    }
   ],
   "source": [
    "# now each list is a actually a list of values for each row\n",
    "df_str = pd.DataFrame({\"list_values\": [str(a) for a in array.tolist()]})\n",
    "df_str.head()"
   ]
  },
  {
   "cell_type": "code",
   "execution_count": 9,
   "id": "23212237-906f-469a-a58b-ff9537837691",
   "metadata": {
    "tags": []
   },
   "outputs": [
    {
     "data": {
      "text/plain": [
       "str"
      ]
     },
     "execution_count": 9,
     "metadata": {},
     "output_type": "execute_result"
    }
   ],
   "source": [
    "# each value is a str\n",
    "type(df_str.iloc[0][0])"
   ]
  },
  {
   "cell_type": "code",
   "execution_count": 10,
   "id": "92a45103-2de4-4a4f-a0af-a4d9258805c6",
   "metadata": {
    "tags": []
   },
   "outputs": [
    {
     "data": {
      "text/html": [
       "<div>\n",
       "<style scoped>\n",
       "    .dataframe tbody tr th:only-of-type {\n",
       "        vertical-align: middle;\n",
       "    }\n",
       "\n",
       "    .dataframe tbody tr th {\n",
       "        vertical-align: top;\n",
       "    }\n",
       "\n",
       "    .dataframe thead th {\n",
       "        text-align: right;\n",
       "    }\n",
       "</style>\n",
       "<table border=\"1\" class=\"dataframe\">\n",
       "  <thead>\n",
       "    <tr style=\"text-align: right;\">\n",
       "      <th></th>\n",
       "      <th>0</th>\n",
       "    </tr>\n",
       "  </thead>\n",
       "  <tbody>\n",
       "    <tr>\n",
       "      <th>0</th>\n",
       "      <td>[0.56, 0.62, 0.86, 0.46, 0.64]</td>\n",
       "    </tr>\n",
       "    <tr>\n",
       "      <th>1</th>\n",
       "      <td>[0.78, 0.65, 0.1, 0.69, 0.76]</td>\n",
       "    </tr>\n",
       "    <tr>\n",
       "      <th>2</th>\n",
       "      <td>[0.73, 0.53, 0.75, 0.76, 0.65]</td>\n",
       "    </tr>\n",
       "    <tr>\n",
       "      <th>3</th>\n",
       "      <td>[0.26, 0.24, 0.99, 0.54, 0.8]</td>\n",
       "    </tr>\n",
       "    <tr>\n",
       "      <th>4</th>\n",
       "      <td>[0.28, 0.51, 0.96, 0.56, 0.45]</td>\n",
       "    </tr>\n",
       "  </tbody>\n",
       "</table>\n",
       "</div>"
      ],
      "text/plain": [
       "                                0\n",
       "0  [0.56, 0.62, 0.86, 0.46, 0.64]\n",
       "1   [0.78, 0.65, 0.1, 0.69, 0.76]\n",
       "2  [0.73, 0.53, 0.75, 0.76, 0.65]\n",
       "3   [0.26, 0.24, 0.99, 0.54, 0.8]\n",
       "4  [0.28, 0.51, 0.96, 0.56, 0.45]"
      ]
     },
     "execution_count": 10,
     "metadata": {},
     "output_type": "execute_result"
    }
   ],
   "source": [
    "# This does not work as expected\n",
    "pd.DataFrame(df_str.list_values.values.tolist()).head()"
   ]
  },
  {
   "cell_type": "code",
   "execution_count": 11,
   "id": "22fd6dbc-7fad-42b8-9e0d-373eaef7e93f",
   "metadata": {
    "tags": []
   },
   "outputs": [
    {
     "data": {
      "text/html": [
       "<div>\n",
       "<style scoped>\n",
       "    .dataframe tbody tr th:only-of-type {\n",
       "        vertical-align: middle;\n",
       "    }\n",
       "\n",
       "    .dataframe tbody tr th {\n",
       "        vertical-align: top;\n",
       "    }\n",
       "\n",
       "    .dataframe thead th {\n",
       "        text-align: right;\n",
       "    }\n",
       "</style>\n",
       "<table border=\"1\" class=\"dataframe\">\n",
       "  <thead>\n",
       "    <tr style=\"text-align: right;\">\n",
       "      <th></th>\n",
       "      <th>0</th>\n",
       "      <th>1</th>\n",
       "      <th>2</th>\n",
       "      <th>3</th>\n",
       "      <th>4</th>\n",
       "    </tr>\n",
       "  </thead>\n",
       "  <tbody>\n",
       "    <tr>\n",
       "      <th>0</th>\n",
       "      <td>0.56</td>\n",
       "      <td>0.62</td>\n",
       "      <td>0.86</td>\n",
       "      <td>0.46</td>\n",
       "      <td>0.64</td>\n",
       "    </tr>\n",
       "    <tr>\n",
       "      <th>1</th>\n",
       "      <td>0.78</td>\n",
       "      <td>0.65</td>\n",
       "      <td>0.10</td>\n",
       "      <td>0.69</td>\n",
       "      <td>0.76</td>\n",
       "    </tr>\n",
       "    <tr>\n",
       "      <th>2</th>\n",
       "      <td>0.73</td>\n",
       "      <td>0.53</td>\n",
       "      <td>0.75</td>\n",
       "      <td>0.76</td>\n",
       "      <td>0.65</td>\n",
       "    </tr>\n",
       "    <tr>\n",
       "      <th>3</th>\n",
       "      <td>0.26</td>\n",
       "      <td>0.24</td>\n",
       "      <td>0.99</td>\n",
       "      <td>0.54</td>\n",
       "      <td>0.80</td>\n",
       "    </tr>\n",
       "    <tr>\n",
       "      <th>4</th>\n",
       "      <td>0.28</td>\n",
       "      <td>0.51</td>\n",
       "      <td>0.96</td>\n",
       "      <td>0.56</td>\n",
       "      <td>0.45</td>\n",
       "    </tr>\n",
       "  </tbody>\n",
       "</table>\n",
       "</div>"
      ],
      "text/plain": [
       "      0     1     2     3     4\n",
       "0  0.56  0.62  0.86  0.46  0.64\n",
       "1  0.78  0.65  0.10  0.69  0.76\n",
       "2  0.73  0.53  0.75  0.76  0.65\n",
       "3  0.26  0.24  0.99  0.54  0.80\n",
       "4  0.28  0.51  0.96  0.56  0.45"
      ]
     },
     "execution_count": 11,
     "metadata": {},
     "output_type": "execute_result"
    }
   ],
   "source": [
    "# One option is to evaluate each string as a list, then proceed as usual\n",
    "# 'eval' parses and evaluates the string of a list as a python expression\n",
    "# turning it back into a list\n",
    "pd.DataFrame(df_str.list_values.apply(lambda u: eval(u)).values.tolist()).head()"
   ]
  },
  {
   "cell_type": "code",
   "execution_count": null,
   "id": "1ba45173",
   "metadata": {},
   "outputs": [],
   "source": []
  }
 ],
 "metadata": {
  "kernelspec": {
   "display_name": "Python 3 (ipykernel)",
   "language": "python",
   "name": "python3"
  },
  "language_info": {
   "codemirror_mode": {
    "name": "ipython",
    "version": 3
   },
   "file_extension": ".py",
   "mimetype": "text/x-python",
   "name": "python",
   "nbconvert_exporter": "python",
   "pygments_lexer": "ipython3",
   "version": "3.10.13"
  }
 },
 "nbformat": 4,
 "nbformat_minor": 5
}
