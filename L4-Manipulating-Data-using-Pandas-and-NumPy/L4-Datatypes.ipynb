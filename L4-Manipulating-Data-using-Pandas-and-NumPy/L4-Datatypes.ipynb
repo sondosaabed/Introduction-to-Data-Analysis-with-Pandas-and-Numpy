{
 "cells": [
  {
   "cell_type": "markdown",
   "metadata": {},
   "source": [
    "### Why do data types matter?\n",
    "\n",
    "We have dropped and relabeled columns, and filtered and deduped rows. What if the datatypes of our two datasets are different? If we are to do any analysis using them together, we'll have to make sure they are consistent.\n",
    "\n",
    "### Typical pandas data types\n",
    "\n",
    "- Objects\n",
    "- Integers\n",
    "- Floats\n",
    "- Booleans\n",
    "- Datetimes\n",
    "- Categorical\n",
    "\n",
    "### Inspecting data types\n",
    "\n",
    "Two common ways to view the data types for a DataFrame are:\n",
    "\n",
    "- The dtypes attribute, which gives you Series with the name of each column and its data type\n",
    "- The familiar .info() method. This gives you extra information, not just the data types, but can be useful if you're having trouble remembering all of the attributes and methods\n",
    "\n",
    "\n",
    "### Converting data types\n",
    "\n",
    "Converting data types usually involves the .astype() method. There are two main ways to use this method:\n",
    "\n",
    "- Casting using dictionary mapping. For example, df['column_A'] = df.astype({'column_A': 'int32'})\n",
    "- Casting using series. For example, df['column_A'] = df['column_A'].astype('int32')"
   ]
  },
  {
   "cell_type": "code",
   "execution_count": null,
   "metadata": {},
   "outputs": [],
   "source": []
  }
 ],
 "metadata": {
  "language_info": {
   "name": "python"
  }
 },
 "nbformat": 4,
 "nbformat_minor": 2
}
