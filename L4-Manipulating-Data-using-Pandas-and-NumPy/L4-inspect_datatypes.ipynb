{
 "cells": [
  {
   "cell_type": "markdown",
   "metadata": {},
   "source": [
    "# Inspecting Data Types\n",
    "Use the space below to explore `data_08_v3.csv` and `data_18_v3.csv` to answer the quiz questions below regarding datatypes. You should've created these data files in the previous section: *Filter, Drop Nulls, Dedupe*.\n",
    "\n",
    "Hint: Use `.unique()` for the columns in question to get a better understanding of what values are present. Read more [here](https://pandas.pydata.org/docs/reference/api/pandas.Series.unique.html#)."
   ]
  },
  {
   "cell_type": "code",
   "execution_count": 7,
   "metadata": {
    "tags": []
   },
   "outputs": [],
   "source": [
    "# import pandas and read the two data csvs\n",
    "import pandas as pd\n",
    "\n",
    "fuel_08_df = pd.read_csv(\"data_08_v3.csv\")\n",
    "fuel_18_df = pd.read_csv(\"data_18_v3.csv\")"
   ]
  },
  {
   "cell_type": "code",
   "execution_count": 8,
   "metadata": {
    "tags": []
   },
   "outputs": [
    {
     "data": {
      "text/plain": [
       "model                    object\n",
       "displ                   float64\n",
       "cyl                      object\n",
       "trans                    object\n",
       "drive                    object\n",
       "fuel                     object\n",
       "veh_class                object\n",
       "air_pollution_score      object\n",
       "city_mpg                 object\n",
       "hwy_mpg                  object\n",
       "cmb_mpg                  object\n",
       "greenhouse_gas_score     object\n",
       "smartway                 object\n",
       "dtype: object"
      ]
     },
     "execution_count": 8,
     "metadata": {},
     "output_type": "execute_result"
    }
   ],
   "source": [
    "# Find the data types in fuel_08_df\n",
    "fuel_08_df.dtypes"
   ]
  },
  {
   "cell_type": "code",
   "execution_count": 9,
   "metadata": {
    "tags": []
   },
   "outputs": [
    {
     "data": {
      "text/plain": [
       "model                    object\n",
       "displ                   float64\n",
       "cyl                     float64\n",
       "trans                    object\n",
       "drive                    object\n",
       "fuel                     object\n",
       "veh_class                object\n",
       "air_pollution_score       int64\n",
       "city_mpg                 object\n",
       "hwy_mpg                  object\n",
       "cmb_mpg                  object\n",
       "greenhouse_gas_score      int64\n",
       "smartway                 object\n",
       "dtype: object"
      ]
     },
     "execution_count": 9,
     "metadata": {},
     "output_type": "execute_result"
    }
   ],
   "source": [
    "# Find the data types in fuel_18_df\n",
    "fuel_18_df.dtypes"
   ]
  },
  {
   "cell_type": "markdown",
   "metadata": {},
   "source": [
    "#### What is different between the two datasets for the `cyl` column? What would you change?"
   ]
  },
  {
   "cell_type": "code",
   "execution_count": 10,
   "metadata": {
    "tags": []
   },
   "outputs": [
    {
     "data": {
      "text/plain": [
       "model                   377\n",
       "displ                    45\n",
       "cyl                       8\n",
       "trans                    13\n",
       "drive                     2\n",
       "fuel                      3\n",
       "veh_class                 8\n",
       "air_pollution_score       5\n",
       "city_mpg                 28\n",
       "hwy_mpg                  27\n",
       "cmb_mpg                  27\n",
       "greenhouse_gas_score     12\n",
       "smartway                  2\n",
       "dtype: int64"
      ]
     },
     "execution_count": 10,
     "metadata": {},
     "output_type": "execute_result"
    }
   ],
   "source": [
    "# Find the unique values in cyl for fuel_08_df\n",
    "fuel_08_df.nunique()"
   ]
  },
  {
   "cell_type": "code",
   "execution_count": 11,
   "metadata": {
    "tags": []
   },
   "outputs": [
    {
     "data": {
      "text/plain": [
       "model                   357\n",
       "displ                    36\n",
       "cyl                       7\n",
       "trans                    26\n",
       "drive                     2\n",
       "fuel                      4\n",
       "veh_class                 9\n",
       "air_pollution_score       5\n",
       "city_mpg                 56\n",
       "hwy_mpg                  59\n",
       "cmb_mpg                  56\n",
       "greenhouse_gas_score     10\n",
       "smartway                  3\n",
       "dtype: int64"
      ]
     },
     "execution_count": 11,
     "metadata": {},
     "output_type": "execute_result"
    }
   ],
   "source": [
    "# Find the unique values in cyl for fuel_18_df\n",
    "fuel_18_df.nunique()"
   ]
  },
  {
   "cell_type": "markdown",
   "metadata": {},
   "source": [
    "Use the information from these cells to answer the first quiz question."
   ]
  },
  {
   "cell_type": "markdown",
   "metadata": {},
   "source": [
    "#### What is different between the two datasets for the `air_pollution_score` column? What would you change?"
   ]
  },
  {
   "cell_type": "code",
   "execution_count": 26,
   "metadata": {
    "tags": []
   },
   "outputs": [
    {
     "data": {
      "text/plain": [
       "array(['7', '6', '9.5', '9', '6/4'], dtype=object)"
      ]
     },
     "execution_count": 26,
     "metadata": {},
     "output_type": "execute_result"
    }
   ],
   "source": [
    "# Find the unique values in air_pollution_score for fuel_08_df\n",
    "fuel_08_df['air_pollution_score'].unique()"
   ]
  },
  {
   "cell_type": "code",
   "execution_count": 27,
   "metadata": {
    "tags": []
   },
   "outputs": [
    {
     "data": {
      "text/plain": [
       "array([3, 1, 7, 5, 6])"
      ]
     },
     "execution_count": 27,
     "metadata": {},
     "output_type": "execute_result"
    }
   ],
   "source": [
    "# Find the unique values in air_pollution_score for fuel_18_df\n",
    "fuel_18_df['air_pollution_score'].unique()"
   ]
  },
  {
   "cell_type": "markdown",
   "metadata": {},
   "source": [
    "Use the information from these cells to answer the second quiz question."
   ]
  },
  {
   "cell_type": "markdown",
   "metadata": {},
   "source": [
    "#### Look at the data types for all of the `*_mpg` columns for both datasets. What type are they? What would you change?"
   ]
  },
  {
   "cell_type": "code",
   "execution_count": 28,
   "metadata": {
    "tags": []
   },
   "outputs": [
    {
     "data": {
      "text/plain": [
       "array(['15', '17', '16', '18', '19', '20', '10', '11', '12', '13', '21',\n",
       "       '22', '14', '23', '9', '8', '24', '34', '29', '25', '26', '40',\n",
       "       '27', '28', '13/18', '35', '33', '48'], dtype=object)"
      ]
     },
     "execution_count": 28,
     "metadata": {},
     "output_type": "execute_result"
    }
   ],
   "source": [
    "# Find the unique values in city_mpg for fuel_08_df to see an example of their data type\n",
    "fuel_08_df['city_mpg'].unique()"
   ]
  },
  {
   "cell_type": "code",
   "execution_count": 29,
   "metadata": {
    "tags": []
   },
   "outputs": [
    {
     "data": {
      "text/plain": [
       "array(['20', '19', '23', '21', '24', '17', '26', '22', '25', '27', '12',\n",
       "       '9', '28/66', '27/70', '27/66', '16', '25/62', '18', '14', '15',\n",
       "       '13', '29', '31', '30', '28', '14/18', '49', '12/18', '12/17',\n",
       "       '12/16', '11/16', '43/113', '14/19', '13/18', '43/102', '43', '33',\n",
       "       '32', '15/21', '14/21', '20/59', '10', '17/24', '17/23', '28/63',\n",
       "       '37', '35', '40', '51', '44', '48', '34', '9/13', '26/70', '26/60',\n",
       "       '26/63'], dtype=object)"
      ]
     },
     "execution_count": 29,
     "metadata": {},
     "output_type": "execute_result"
    }
   ],
   "source": [
    "# Find the unique values in city_mpg for fuel_18_df to see an example of their data type\n",
    "fuel_18_df['city_mpg'].unique()"
   ]
  },
  {
   "cell_type": "markdown",
   "metadata": {},
   "source": [
    "Use the information from these cells to answer the third quiz question."
   ]
  },
  {
   "cell_type": "markdown",
   "metadata": {},
   "source": [
    "#### What is different between the two datasets for the `greenhouse_gas_score` column? What would you change?\n",
    "\n",
    "Note: according to the [EPA website](https://www.epa.gov/greenvehicles/greenhouse-gas-rating), greenhouse gas ratings should be integers."
   ]
  },
  {
   "cell_type": "code",
   "execution_count": 30,
   "metadata": {
    "tags": []
   },
   "outputs": [
    {
     "data": {
      "text/plain": [
       "array(['4', '5', '6', '7', '0', '1', '3', '2', '8', '9', '10', '7/6'],\n",
       "      dtype=object)"
      ]
     },
     "execution_count": 30,
     "metadata": {},
     "output_type": "execute_result"
    }
   ],
   "source": [
    "# Find the unique values in greenhouse_gas_score for fuel_08_df\n",
    "fuel_08_df['greenhouse_gas_score'].unique()"
   ]
  },
  {
   "cell_type": "code",
   "execution_count": 31,
   "metadata": {
    "tags": []
   },
   "outputs": [
    {
     "data": {
      "text/plain": [
       "array([ 5,  4,  6,  7,  2,  1, 10,  3,  9,  8])"
      ]
     },
     "execution_count": 31,
     "metadata": {},
     "output_type": "execute_result"
    }
   ],
   "source": [
    "# Find the unique values in greenhouse_gas_score for fuel_18_df\n",
    "fuel_18_df['greenhouse_gas_score'].unique()"
   ]
  },
  {
   "cell_type": "markdown",
   "metadata": {},
   "source": [
    "Use the information from these cells to answer the fourth quiz question."
   ]
  },
  {
   "cell_type": "code",
   "execution_count": null,
   "metadata": {},
   "outputs": [],
   "source": []
  }
 ],
 "metadata": {
  "kernelspec": {
   "display_name": "Python 3 (ipykernel)",
   "language": "python",
   "name": "python3"
  },
  "language_info": {
   "codemirror_mode": {
    "name": "ipython",
    "version": 3
   },
   "file_extension": ".py",
   "mimetype": "text/x-python",
   "name": "python",
   "nbconvert_exporter": "python",
   "pygments_lexer": "ipython3",
   "version": "3.10.13"
  }
 },
 "nbformat": 4,
 "nbformat_minor": 4
}
