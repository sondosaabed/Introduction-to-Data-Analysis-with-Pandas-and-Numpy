{
 "cells": [
  {
   "cell_type": "markdown",
   "metadata": {},
   "source": [
    "Here are the four types of merges in pandas. Below, \"key\" refers to common columns in both dataframes that we're joining on.\n",
    "\n",
    "- Inner Join - Use intersection of keys from both frames.\n",
    "- Outer Join - Use union of keys from both frames.\n",
    "- Left Join - Use keys from left frame only.\n",
    "- Right Join - Use keys from right frame only."
   ]
  },
  {
   "cell_type": "markdown",
   "metadata": {},
   "source": [
    "![image](https://github.com/sondosaabed/Introduction-to-Data-Analysis-with-Pandas-and-Numpy/assets/65151701/446af4ab-b2ac-4e35-884d-1c0d8743b8de)\n"
   ]
  },
  {
   "cell_type": "markdown",
   "metadata": {},
   "source": [
    "![image](https://github.com/sondosaabed/Introduction-to-Data-Analysis-with-Pandas-and-Numpy/assets/65151701/8db97a7d-948d-4b42-acf2-8fd857a41847)"
   ]
  }
 ],
 "metadata": {
  "language_info": {
   "name": "python"
  }
 },
 "nbformat": 4,
 "nbformat_minor": 2
}
