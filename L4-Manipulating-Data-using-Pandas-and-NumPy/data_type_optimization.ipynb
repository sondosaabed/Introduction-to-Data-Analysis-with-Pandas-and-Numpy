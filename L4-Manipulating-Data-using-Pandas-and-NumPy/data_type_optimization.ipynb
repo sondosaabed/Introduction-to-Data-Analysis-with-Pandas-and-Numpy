{
 "cells": [
  {
   "cell_type": "markdown",
   "id": "802f04e8-8bce-460e-9e74-5cc5c32e842f",
   "metadata": {},
   "source": [
    "# Data Type Optimization\n",
    "With the data we are working in this course, it is easy to take advantage of the abundant computer resources offered. Most of the datasets easily fit within memory. But what happens if your dataset is massive, say 64GB! You can either get a bigger machine, or you can see if optimizing how pandas handles the dataset provides another solution.\n",
    "\n",
    "Here we will take the `clean_08.csv` dataset we produced in the last lesson, *Fixing Data Types*, and show how altering the data types can shrink the memory footprint of a DataFrame."
   ]
  },
  {
   "cell_type": "code",
   "execution_count": 1,
   "id": "b054ef6e-a46a-425e-9b51-60bb0f587237",
   "metadata": {
    "tags": []
   },
   "outputs": [],
   "source": [
    "import pandas as pd"
   ]
  },
  {
   "cell_type": "code",
   "execution_count": 2,
   "id": "1ce0f8f1-a837-44b5-b7a7-1040ea2153a8",
   "metadata": {
    "tags": []
   },
   "outputs": [],
   "source": [
    "# read the clean_08 CSV\n",
    "df = pd.read_csv(\"clean_08.csv\")"
   ]
  },
  {
   "cell_type": "code",
   "execution_count": 3,
   "id": "14ef6852-8ef9-4016-92e8-7fb369877703",
   "metadata": {
    "tags": []
   },
   "outputs": [
    {
     "name": "stdout",
     "output_type": "stream",
     "text": [
      "<class 'pandas.core.frame.DataFrame'>\n",
      "RangeIndex: 987 entries, 0 to 986\n",
      "Data columns (total 13 columns):\n",
      " #   Column                Non-Null Count  Dtype  \n",
      "---  ------                --------------  -----  \n",
      " 0   model                 987 non-null    object \n",
      " 1   displ                 987 non-null    float64\n",
      " 2   cyl                   987 non-null    int64  \n",
      " 3   trans                 987 non-null    object \n",
      " 4   drive                 987 non-null    object \n",
      " 5   fuel                  987 non-null    object \n",
      " 6   veh_class             987 non-null    object \n",
      " 7   air_pollution_score   987 non-null    float64\n",
      " 8   city_mpg              987 non-null    float64\n",
      " 9   hwy_mpg               987 non-null    float64\n",
      " 10  cmb_mpg               987 non-null    float64\n",
      " 11  greenhouse_gas_score  987 non-null    int64  \n",
      " 12  smartway              987 non-null    object \n",
      "dtypes: float64(5), int64(2), object(6)\n",
      "memory usage: 100.4+ KB\n"
     ]
    }
   ],
   "source": [
    "# use .info() to view the current Dtypes, and the memory usage.\n",
    "df.info()"
   ]
  },
  {
   "cell_type": "markdown",
   "id": "cfa0a577-03d6-4d43-a139-d387edc5207a",
   "metadata": {},
   "source": [
    "### Numerical Optimization\n",
    "Currently the DataFrame is a mixture of objects, float64, and int64 data types. We can also see the memory usage - `100.4+ KB`\n",
    "\n",
    "Let's see what values are present in the `*_mpg` columns"
   ]
  },
  {
   "cell_type": "code",
   "execution_count": 4,
   "id": "6d820159-5bf8-4b4b-97f0-92d428b66ed8",
   "metadata": {
    "tags": []
   },
   "outputs": [
    {
     "data": {
      "text/plain": [
       "17.0    109\n",
       "16.0     96\n",
       "20.0     96\n",
       "15.0     90\n",
       "19.0     87\n",
       "18.0     81\n",
       "13.0     73\n",
       "14.0     71\n",
       "21.0     64\n",
       "12.0     57\n",
       "22.0     44\n",
       "23.0     21\n",
       "24.0     20\n",
       "11.0     17\n",
       "10.0     14\n",
       "25.0      8\n",
       "26.0      8\n",
       "27.0      8\n",
       "9.0       6\n",
       "29.0      5\n",
       "8.0       3\n",
       "34.0      3\n",
       "28.0      2\n",
       "40.0      1\n",
       "35.0      1\n",
       "33.0      1\n",
       "48.0      1\n",
       "Name: city_mpg, dtype: int64"
      ]
     },
     "execution_count": 4,
     "metadata": {},
     "output_type": "execute_result"
    }
   ],
   "source": [
    "# find city_mpg value counts\n",
    "df.city_mpg.value_counts()"
   ]
  },
  {
   "cell_type": "code",
   "execution_count": 5,
   "id": "969814d2-707b-4d85-bd2e-971a6ce94975",
   "metadata": {
    "tags": []
   },
   "outputs": [
    {
     "data": {
      "text/plain": [
       "24.0    111\n",
       "26.0     82\n",
       "25.0     77\n",
       "28.0     70\n",
       "19.0     70\n",
       "20.0     69\n",
       "27.0     60\n",
       "22.0     59\n",
       "18.0     58\n",
       "29.0     49\n",
       "23.0     48\n",
       "17.0     41\n",
       "31.0     41\n",
       "30.0     33\n",
       "21.0     26\n",
       "16.0     25\n",
       "33.0     19\n",
       "32.0     16\n",
       "15.0     10\n",
       "14.0      5\n",
       "35.0      5\n",
       "34.0      4\n",
       "36.0      3\n",
       "13.0      3\n",
       "45.0      2\n",
       "37.0      1\n",
       "Name: hwy_mpg, dtype: int64"
      ]
     },
     "execution_count": 5,
     "metadata": {},
     "output_type": "execute_result"
    }
   ],
   "source": [
    "# find hwy_mpg value counts\n",
    "df.hwy_mpg.value_counts()"
   ]
  },
  {
   "cell_type": "code",
   "execution_count": 6,
   "id": "e60ad1ce-cb48-4d2d-b673-01f570ff4293",
   "metadata": {
    "tags": []
   },
   "outputs": [
    {
     "data": {
      "text/plain": [
       "22.0    101\n",
       "20.0     94\n",
       "19.0     89\n",
       "21.0     84\n",
       "15.0     83\n",
       "18.0     77\n",
       "24.0     67\n",
       "14.0     64\n",
       "17.0     61\n",
       "23.0     59\n",
       "16.0     53\n",
       "25.0     36\n",
       "26.0     24\n",
       "27.0     17\n",
       "13.0     16\n",
       "12.0     15\n",
       "28.0     13\n",
       "29.0     12\n",
       "11.0      7\n",
       "32.0      4\n",
       "10.0      3\n",
       "31.0      3\n",
       "34.0      2\n",
       "42.0      1\n",
       "30.0      1\n",
       "46.0      1\n",
       "Name: cmb_mpg, dtype: int64"
      ]
     },
     "execution_count": 6,
     "metadata": {},
     "output_type": "execute_result"
    }
   ],
   "source": [
    "# find cmb_mpg value counts\n",
    "df.cmb_mpg.value_counts()"
   ]
  },
  {
   "cell_type": "markdown",
   "id": "59714238-34cd-4b49-831b-7ba708009ea2",
   "metadata": {},
   "source": [
    "Even though the DataFrame labels it as float64, when inspecting each one they return `int64`. Let's change it to make it official."
   ]
  },
  {
   "cell_type": "code",
   "execution_count": 7,
   "id": "66aaf9b1-3ed0-407a-8cd7-bc46727b2d02",
   "metadata": {
    "tags": []
   },
   "outputs": [],
   "source": [
    "# Change city_mpg, hwy_mpg, cmb_mpg to be an int using .astype()\n",
    "df[\"city_mpg\"] = df[\"city_mpg\"].astype(\"int\")\n",
    "df[\"hwy_mpg\"] = df[\"hwy_mpg\"].astype(\"int\")\n",
    "df[\"cmb_mpg\"] = df[\"cmb_mpg\"].astype(\"int\")"
   ]
  },
  {
   "cell_type": "code",
   "execution_count": 8,
   "id": "b7615402-efae-4f87-b0e9-1c70b99724e8",
   "metadata": {
    "tags": []
   },
   "outputs": [
    {
     "name": "stdout",
     "output_type": "stream",
     "text": [
      "<class 'pandas.core.frame.DataFrame'>\n",
      "RangeIndex: 987 entries, 0 to 986\n",
      "Data columns (total 13 columns):\n",
      " #   Column                Non-Null Count  Dtype  \n",
      "---  ------                --------------  -----  \n",
      " 0   model                 987 non-null    object \n",
      " 1   displ                 987 non-null    float64\n",
      " 2   cyl                   987 non-null    int64  \n",
      " 3   trans                 987 non-null    object \n",
      " 4   drive                 987 non-null    object \n",
      " 5   fuel                  987 non-null    object \n",
      " 6   veh_class             987 non-null    object \n",
      " 7   air_pollution_score   987 non-null    float64\n",
      " 8   city_mpg              987 non-null    int64  \n",
      " 9   hwy_mpg               987 non-null    int64  \n",
      " 10  cmb_mpg               987 non-null    int64  \n",
      " 11  greenhouse_gas_score  987 non-null    int64  \n",
      " 12  smartway              987 non-null    object \n",
      "dtypes: float64(2), int64(5), object(6)\n",
      "memory usage: 100.4+ KB\n"
     ]
    }
   ],
   "source": [
    "# df info to view data type and memory usage changes\n",
    "df.info()"
   ]
  },
  {
   "cell_type": "markdown",
   "id": "9deba3e9-8d58-4b7b-87e8-c173119bea78",
   "metadata": {},
   "source": [
    "Well that did not change anything. Instead of an `int64`, let's change them to be `int8`. The values for each column only range from 8 - 48. Use `.describe()` to view the min/max of each column"
   ]
  },
  {
   "cell_type": "code",
   "execution_count": 9,
   "id": "9b3ffcda-50e9-4fe2-a4ba-a5be9e49f32c",
   "metadata": {
    "tags": []
   },
   "outputs": [
    {
     "data": {
      "text/html": [
       "<div>\n",
       "<style scoped>\n",
       "    .dataframe tbody tr th:only-of-type {\n",
       "        vertical-align: middle;\n",
       "    }\n",
       "\n",
       "    .dataframe tbody tr th {\n",
       "        vertical-align: top;\n",
       "    }\n",
       "\n",
       "    .dataframe thead th {\n",
       "        text-align: right;\n",
       "    }\n",
       "</style>\n",
       "<table border=\"1\" class=\"dataframe\">\n",
       "  <thead>\n",
       "    <tr style=\"text-align: right;\">\n",
       "      <th></th>\n",
       "      <th>city_mpg</th>\n",
       "      <th>hwy_mpg</th>\n",
       "      <th>cmb_mpg</th>\n",
       "    </tr>\n",
       "  </thead>\n",
       "  <tbody>\n",
       "    <tr>\n",
       "      <th>count</th>\n",
       "      <td>987.000000</td>\n",
       "      <td>987.000000</td>\n",
       "      <td>987.000000</td>\n",
       "    </tr>\n",
       "    <tr>\n",
       "      <th>mean</th>\n",
       "      <td>17.386018</td>\n",
       "      <td>24.038501</td>\n",
       "      <td>19.788247</td>\n",
       "    </tr>\n",
       "    <tr>\n",
       "      <th>std</th>\n",
       "      <td>4.088018</td>\n",
       "      <td>4.753406</td>\n",
       "      <td>4.251565</td>\n",
       "    </tr>\n",
       "    <tr>\n",
       "      <th>min</th>\n",
       "      <td>8.000000</td>\n",
       "      <td>13.000000</td>\n",
       "      <td>10.000000</td>\n",
       "    </tr>\n",
       "    <tr>\n",
       "      <th>25%</th>\n",
       "      <td>15.000000</td>\n",
       "      <td>20.000000</td>\n",
       "      <td>17.000000</td>\n",
       "    </tr>\n",
       "    <tr>\n",
       "      <th>50%</th>\n",
       "      <td>17.000000</td>\n",
       "      <td>24.000000</td>\n",
       "      <td>20.000000</td>\n",
       "    </tr>\n",
       "    <tr>\n",
       "      <th>75%</th>\n",
       "      <td>20.000000</td>\n",
       "      <td>27.000000</td>\n",
       "      <td>22.000000</td>\n",
       "    </tr>\n",
       "    <tr>\n",
       "      <th>max</th>\n",
       "      <td>48.000000</td>\n",
       "      <td>45.000000</td>\n",
       "      <td>46.000000</td>\n",
       "    </tr>\n",
       "  </tbody>\n",
       "</table>\n",
       "</div>"
      ],
      "text/plain": [
       "         city_mpg     hwy_mpg     cmb_mpg\n",
       "count  987.000000  987.000000  987.000000\n",
       "mean    17.386018   24.038501   19.788247\n",
       "std      4.088018    4.753406    4.251565\n",
       "min      8.000000   13.000000   10.000000\n",
       "25%     15.000000   20.000000   17.000000\n",
       "50%     17.000000   24.000000   20.000000\n",
       "75%     20.000000   27.000000   22.000000\n",
       "max     48.000000   45.000000   46.000000"
      ]
     },
     "execution_count": 9,
     "metadata": {},
     "output_type": "execute_result"
    }
   ],
   "source": [
    "df[[\"city_mpg\", \"hwy_mpg\", \"cmb_mpg\"]].describe()"
   ]
  },
  {
   "cell_type": "code",
   "execution_count": 10,
   "id": "6a37a6ea-d872-4076-8173-193b4aa781b4",
   "metadata": {
    "tags": []
   },
   "outputs": [],
   "source": [
    "# Change the data type to be an int8\n",
    "df[\"city_mpg\"] = df[\"city_mpg\"].astype(\"int8\")\n",
    "df[\"hwy_mpg\"] = df[\"hwy_mpg\"].astype(\"int8\")\n",
    "df[\"cmb_mpg\"] = df[\"cmb_mpg\"].astype(\"int8\")"
   ]
  },
  {
   "cell_type": "code",
   "execution_count": 11,
   "id": "90ba6058-0187-4d02-a4e1-77487e889a80",
   "metadata": {
    "tags": []
   },
   "outputs": [
    {
     "name": "stdout",
     "output_type": "stream",
     "text": [
      "<class 'pandas.core.frame.DataFrame'>\n",
      "RangeIndex: 987 entries, 0 to 986\n",
      "Data columns (total 13 columns):\n",
      " #   Column                Non-Null Count  Dtype  \n",
      "---  ------                --------------  -----  \n",
      " 0   model                 987 non-null    object \n",
      " 1   displ                 987 non-null    float64\n",
      " 2   cyl                   987 non-null    int64  \n",
      " 3   trans                 987 non-null    object \n",
      " 4   drive                 987 non-null    object \n",
      " 5   fuel                  987 non-null    object \n",
      " 6   veh_class             987 non-null    object \n",
      " 7   air_pollution_score   987 non-null    float64\n",
      " 8   city_mpg              987 non-null    int8   \n",
      " 9   hwy_mpg               987 non-null    int8   \n",
      " 10  cmb_mpg               987 non-null    int8   \n",
      " 11  greenhouse_gas_score  987 non-null    int64  \n",
      " 12  smartway              987 non-null    object \n",
      "dtypes: float64(2), int64(2), int8(3), object(6)\n",
      "memory usage: 80.1+ KB\n"
     ]
    }
   ],
   "source": [
    "# df info to view data type and memory usage changes\n",
    "df.info()"
   ]
  },
  {
   "cell_type": "markdown",
   "id": "308211c1-bb7b-435c-b45a-d718ad67d37e",
   "metadata": {},
   "source": [
    "Now we are getting somewhere! We just changed the memory usage from `100.4+ KB` to `80.1+ KB` by changing how we are storing our int values.\n",
    "\n",
    "How about changing how we store strings?"
   ]
  },
  {
   "cell_type": "markdown",
   "id": "64aa76e0-01c1-4102-9c49-38ec0d372199",
   "metadata": {},
   "source": [
    "### String Optimization\n",
    "Look at the value counts of each `object` data type: `trans`, `drive`, `fuel`, `veh_class`, `smartway`, and `model`."
   ]
  },
  {
   "cell_type": "code",
   "execution_count": 12,
   "id": "03cf7d06-b8f4-46c7-9a7b-c3d766da6ae7",
   "metadata": {
    "tags": []
   },
   "outputs": [
    {
     "data": {
      "text/plain": [
       "Auto-L4    176\n",
       "Auto-S6    162\n",
       "Auto-L5    157\n",
       "Man-6      142\n",
       "Man-5      123\n",
       "Auto-S5     71\n",
       "Auto-L6     56\n",
       "Auto-AV     45\n",
       "Auto-S4     21\n",
       "Auto-L7     15\n",
       "Auto-S7     11\n",
       "Auto-6       4\n",
       "S8           4\n",
       "Name: trans, dtype: int64"
      ]
     },
     "execution_count": 12,
     "metadata": {},
     "output_type": "execute_result"
    }
   ],
   "source": [
    "# find trans value counts\n",
    "df[\"trans\"].value_counts()"
   ]
  },
  {
   "cell_type": "code",
   "execution_count": 13,
   "id": "c2d06520-4b4a-44cc-b0d7-173f6018d793",
   "metadata": {
    "tags": []
   },
   "outputs": [
    {
     "data": {
      "text/plain": [
       "2WD    662\n",
       "4WD    325\n",
       "Name: drive, dtype: int64"
      ]
     },
     "execution_count": 13,
     "metadata": {},
     "output_type": "execute_result"
    }
   ],
   "source": [
    "# find drive value counts\n",
    "df[\"drive\"].value_counts()"
   ]
  },
  {
   "cell_type": "code",
   "execution_count": 14,
   "id": "15984250-6469-4ca5-818b-1aa8cce2cd03",
   "metadata": {
    "tags": []
   },
   "outputs": [
    {
     "data": {
      "text/plain": [
       "Gasoline    984\n",
       "CNG           1\n",
       "ethanol       1\n",
       "gas           1\n",
       "Name: fuel, dtype: int64"
      ]
     },
     "execution_count": 14,
     "metadata": {},
     "output_type": "execute_result"
    }
   ],
   "source": [
    "# find fuel value counts\n",
    "df[\"fuel\"].value_counts()"
   ]
  },
  {
   "cell_type": "code",
   "execution_count": 15,
   "id": "5e9ebf1c-0fb2-43e8-ab98-c4ef985f7038",
   "metadata": {
    "tags": []
   },
   "outputs": [
    {
     "data": {
      "text/plain": [
       "small car        333\n",
       "SUV              280\n",
       "midsize car      138\n",
       "pickup            83\n",
       "station wagon     60\n",
       "large car         55\n",
       "van               21\n",
       "minivan           17\n",
       "Name: veh_class, dtype: int64"
      ]
     },
     "execution_count": 15,
     "metadata": {},
     "output_type": "execute_result"
    }
   ],
   "source": [
    "# find veh_class value counts\n",
    "df[\"veh_class\"].value_counts()"
   ]
  },
  {
   "cell_type": "code",
   "execution_count": 16,
   "id": "096aebc3-c1f1-46fd-b941-39931f3637f0",
   "metadata": {
    "tags": []
   },
   "outputs": [
    {
     "data": {
      "text/plain": [
       "no     607\n",
       "yes    380\n",
       "Name: smartway, dtype: int64"
      ]
     },
     "execution_count": 16,
     "metadata": {},
     "output_type": "execute_result"
    }
   ],
   "source": [
    "# find smartway value counts\n",
    "df[\"smartway\"].value_counts()"
   ]
  },
  {
   "cell_type": "code",
   "execution_count": 17,
   "id": "e0d86938-bc26-4bb2-9a94-cc64582bf04f",
   "metadata": {
    "tags": []
   },
   "outputs": [
    {
     "data": {
      "text/plain": [
       "NISSAN Altima             12\n",
       "HONDA Accord              11\n",
       "FORD Ranger               10\n",
       "DODGE RAM 1500             9\n",
       "DODGE Dakota               8\n",
       "                          ..\n",
       "MERCEDES-BENZ SL55 AMG     1\n",
       "MERCEDES-BENZ SL550        1\n",
       "MERCEDES-BENZ SL600        1\n",
       "MERCEDES-BENZ SL65 AMG     1\n",
       "ACURA MDX                  1\n",
       "Name: model, Length: 377, dtype: int64"
      ]
     },
     "execution_count": 17,
     "metadata": {},
     "output_type": "execute_result"
    }
   ],
   "source": [
    "# find model value counts\n",
    "df[\"model\"].value_counts()"
   ]
  },
  {
   "cell_type": "markdown",
   "id": "3767237b-2480-4683-99e8-513c0c507f48",
   "metadata": {},
   "source": [
    "Except for `model`, all of the object types have 2 - 13 unique values. In pandas there is a specialized data type called [Categorical](https://pandas.pydata.org/docs/user_guide/categorical.html#). Categorical data types are useful when you have object columns with a low number of unique values. You can create them as categories, and pandas will store those columns more efficiently.\n",
    "\n",
    "Let's change the 5 `object` columns to `category`"
   ]
  },
  {
   "cell_type": "code",
   "execution_count": 18,
   "id": "7052d3fe-cb8a-4329-afcb-ceee0ca6f53f",
   "metadata": {
    "tags": []
   },
   "outputs": [],
   "source": [
    "# assign trans, drive, fuel, veh_class, and smartway to \"category\" using .astype()\n",
    "df[\"trans\"] = df[\"trans\"].astype(\"category\")\n",
    "df[\"drive\"] = df[\"drive\"].astype(\"category\")\n",
    "df[\"fuel\"] = df[\"fuel\"].astype(\"category\")\n",
    "df[\"veh_class\"] = df[\"veh_class\"].astype(\"category\")\n",
    "df[\"smartway\"] = df[\"smartway\"].astype(\"category\")"
   ]
  },
  {
   "cell_type": "code",
   "execution_count": 19,
   "id": "58d13939-5bad-48bb-a55c-b6a8a29d62a1",
   "metadata": {
    "tags": []
   },
   "outputs": [
    {
     "name": "stdout",
     "output_type": "stream",
     "text": [
      "<class 'pandas.core.frame.DataFrame'>\n",
      "RangeIndex: 987 entries, 0 to 986\n",
      "Data columns (total 13 columns):\n",
      " #   Column                Non-Null Count  Dtype   \n",
      "---  ------                --------------  -----   \n",
      " 0   model                 987 non-null    object  \n",
      " 1   displ                 987 non-null    float64 \n",
      " 2   cyl                   987 non-null    int64   \n",
      " 3   trans                 987 non-null    category\n",
      " 4   drive                 987 non-null    category\n",
      " 5   fuel                  987 non-null    category\n",
      " 6   veh_class             987 non-null    category\n",
      " 7   air_pollution_score   987 non-null    float64 \n",
      " 8   city_mpg              987 non-null    int8    \n",
      " 9   hwy_mpg               987 non-null    int8    \n",
      " 10  cmb_mpg               987 non-null    int8    \n",
      " 11  greenhouse_gas_score  987 non-null    int64   \n",
      " 12  smartway              987 non-null    category\n",
      "dtypes: category(5), float64(2), int64(2), int8(3), object(1)\n",
      "memory usage: 47.8+ KB\n"
     ]
    }
   ],
   "source": [
    "# df info to view data type and memory usage changes\n",
    "df.info()"
   ]
  },
  {
   "cell_type": "markdown",
   "id": "2d5d8889-da6e-4986-b7b1-2ea08218d571",
   "metadata": {},
   "source": [
    "Wow! By changing those columns to categories, we further reduced our dataset from `80.1+ KB` to `47.8+ KB`. We effectively reduced the memory usage by 50%. While it may not be important in smaller datasets such as this one, you can really see the power when working on large data.\n",
    "\n",
    "For more information, check out pandas [use-efficient-datatypes](https://pandas.pydata.org/docs/user_guide/scale.html#use-efficient-datatypes) section."
   ]
  }
 ],
 "metadata": {
  "kernelspec": {
   "display_name": "Python 3 (ipykernel)",
   "language": "python",
   "name": "python3"
  },
  "language_info": {
   "codemirror_mode": {
    "name": "ipython",
    "version": 3
   },
   "file_extension": ".py",
   "mimetype": "text/x-python",
   "name": "python",
   "nbconvert_exporter": "python",
   "pygments_lexer": "ipython3",
   "version": "3.10.13"
  }
 },
 "nbformat": 4,
 "nbformat_minor": 5
}
