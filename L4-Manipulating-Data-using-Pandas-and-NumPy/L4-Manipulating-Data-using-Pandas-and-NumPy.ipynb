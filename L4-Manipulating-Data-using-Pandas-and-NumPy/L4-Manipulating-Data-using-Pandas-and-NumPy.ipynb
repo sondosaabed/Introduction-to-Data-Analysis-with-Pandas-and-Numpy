{
 "cells": [
  {
   "cell_type": "markdown",
   "metadata": {},
   "source": [
    "## In this lesson\n",
    "- Using pandas for basic data cleaning\n",
    "    - Incorrect data types, duplicates, missing data\n",
    "    - dropping data\n",
    "    - renaming columns\n",
    "- Filterimng data into subsets (quiries)\n",
    "    - selecting based on strings\n",
    "    - selecting based on numerical data\n",
    "- concatinating through merging and combining\n",
    "    - inner join, outer join, left join, right join\n",
    "    - lebeling after join\n",
    "- expanding data through pandas explode\n",
    "    - expand lists to columns\n",
    "    - expand vertically\n",
    "    - expand horiziontally"
   ]
  },
  {
   "cell_type": "markdown",
   "metadata": {},
   "source": [
    "## common issues\n",
    "- **Incorrect data types:** .to_datetime() will convert a string representation of a datetime into a datetime object. \n",
    "- **Missing data:** .fillna() will fill any null values in your DataFrame with the values used in the method. (Nan)\n",
    "- **Duplicates:** .duplicated() will return True or False for any rows that are duplicates. You can specify which columns used to compare. .drop_duplicates() will drop duplicated given an array the length of your DataFrame with True/False. You can use the inplace=True parameter to modify your current DataFrame.\n",
    "- **Structural problems**, such as\n",
    "    - Different column names\n",
    "    - Mismatched number of records"
   ]
  },
  {
   "cell_type": "code",
   "execution_count": null,
   "metadata": {},
   "outputs": [
    {
     "data": {
      "text/html": [
       "<div>\n",
       "<style scoped>\n",
       "    .dataframe tbody tr th:only-of-type {\n",
       "        vertical-align: middle;\n",
       "    }\n",
       "\n",
       "    .dataframe tbody tr th {\n",
       "        vertical-align: top;\n",
       "    }\n",
       "\n",
       "    .dataframe thead th {\n",
       "        text-align: right;\n",
       "    }\n",
       "</style>\n",
       "<table border=\"1\" class=\"dataframe\">\n",
       "  <thead>\n",
       "    <tr style=\"text-align: right;\">\n",
       "      <th></th>\n",
       "      <th>user_id</th>\n",
       "      <th>product_id</th>\n",
       "      <th>liked</th>\n",
       "      <th>view_duration</th>\n",
       "      <th>source</th>\n",
       "      <th>timestamp</th>\n",
       "    </tr>\n",
       "  </thead>\n",
       "  <tbody>\n",
       "    <tr>\n",
       "      <th>0</th>\n",
       "      <td>3987</td>\n",
       "      <td>997021</td>\n",
       "      <td>True</td>\n",
       "      <td>1.048242</td>\n",
       "      <td>web</td>\n",
       "      <td>2017-09-23 00:18:29.056895</td>\n",
       "    </tr>\n",
       "    <tr>\n",
       "      <th>1</th>\n",
       "      <td>6300</td>\n",
       "      <td>865003</td>\n",
       "      <td>True</td>\n",
       "      <td>1.688173</td>\n",
       "      <td>web</td>\n",
       "      <td>2017-09-21 02:20:22.022096</td>\n",
       "    </tr>\n",
       "    <tr>\n",
       "      <th>2</th>\n",
       "      <td>6451</td>\n",
       "      <td>712951</td>\n",
       "      <td>False</td>\n",
       "      <td>NaN</td>\n",
       "      <td>mobile</td>\n",
       "      <td>2017-09-07 11:57:50.044683</td>\n",
       "    </tr>\n",
       "    <tr>\n",
       "      <th>3</th>\n",
       "      <td>7782</td>\n",
       "      <td>283235</td>\n",
       "      <td>True</td>\n",
       "      <td>0.194162</td>\n",
       "      <td>mobile</td>\n",
       "      <td>2017-09-17 03:48:20.019677</td>\n",
       "    </tr>\n",
       "    <tr>\n",
       "      <th>4</th>\n",
       "      <td>7782</td>\n",
       "      <td>283235</td>\n",
       "      <td>True</td>\n",
       "      <td>0.194162</td>\n",
       "      <td>mobile</td>\n",
       "      <td>2017-09-17 03:48:20.019677</td>\n",
       "    </tr>\n",
       "    <tr>\n",
       "      <th>5</th>\n",
       "      <td>5700</td>\n",
       "      <td>587019</td>\n",
       "      <td>False</td>\n",
       "      <td>0.493194</td>\n",
       "      <td>web</td>\n",
       "      <td>2017-09-07 00:25:07.019097</td>\n",
       "    </tr>\n",
       "    <tr>\n",
       "      <th>6</th>\n",
       "      <td>3400</td>\n",
       "      <td>505123</td>\n",
       "      <td>True</td>\n",
       "      <td>NaN</td>\n",
       "      <td>web</td>\n",
       "      <td>2017-09-07 13:53:21.008403</td>\n",
       "    </tr>\n",
       "    <tr>\n",
       "      <th>7</th>\n",
       "      <td>8403</td>\n",
       "      <td>459916</td>\n",
       "      <td>False</td>\n",
       "      <td>0.675041</td>\n",
       "      <td>mobile</td>\n",
       "      <td>2017-09-25 21:54:00.028323</td>\n",
       "    </tr>\n",
       "    <tr>\n",
       "      <th>8</th>\n",
       "      <td>8965</td>\n",
       "      <td>943363</td>\n",
       "      <td>False</td>\n",
       "      <td>NaN</td>\n",
       "      <td>web</td>\n",
       "      <td>2017-09-17 15:12:21.059489</td>\n",
       "    </tr>\n",
       "    <tr>\n",
       "      <th>9</th>\n",
       "      <td>9693</td>\n",
       "      <td>787546</td>\n",
       "      <td>True</td>\n",
       "      <td>0.101743</td>\n",
       "      <td>web</td>\n",
       "      <td>2017-09-26 12:34:46.012559</td>\n",
       "    </tr>\n",
       "    <tr>\n",
       "      <th>10</th>\n",
       "      <td>4107</td>\n",
       "      <td>811855</td>\n",
       "      <td>False</td>\n",
       "      <td>3.112086</td>\n",
       "      <td>web</td>\n",
       "      <td>2017-09-01 10:50:07.042593</td>\n",
       "    </tr>\n",
       "  </tbody>\n",
       "</table>\n",
       "</div>"
      ],
      "text/plain": [
       "    user_id  product_id  liked  view_duration  source  \\\n",
       "0      3987      997021   True       1.048242     web   \n",
       "1      6300      865003   True       1.688173     web   \n",
       "2      6451      712951  False            NaN  mobile   \n",
       "3      7782      283235   True       0.194162  mobile   \n",
       "4      7782      283235   True       0.194162  mobile   \n",
       "5      5700      587019  False       0.493194     web   \n",
       "6      3400      505123   True            NaN     web   \n",
       "7      8403      459916  False       0.675041  mobile   \n",
       "8      8965      943363  False            NaN     web   \n",
       "9      9693      787546   True       0.101743     web   \n",
       "10     4107      811855  False       3.112086     web   \n",
       "\n",
       "                     timestamp  \n",
       "0   2017-09-23 00:18:29.056895  \n",
       "1   2017-09-21 02:20:22.022096  \n",
       "2   2017-09-07 11:57:50.044683  \n",
       "3   2017-09-17 03:48:20.019677  \n",
       "4   2017-09-17 03:48:20.019677  \n",
       "5   2017-09-07 00:25:07.019097  \n",
       "6   2017-09-07 13:53:21.008403  \n",
       "7   2017-09-25 21:54:00.028323  \n",
       "8   2017-09-17 15:12:21.059489  \n",
       "9   2017-09-26 12:34:46.012559  \n",
       "10  2017-09-01 10:50:07.042593  "
      ]
     },
     "metadata": {},
     "output_type": "display_data"
    }
   ],
   "source": [
    "import pandas as pd\n",
    "df = pd.read_csv('product_view_data.csv')\n",
    "df"
   ]
  },
  {
   "cell_type": "code",
   "execution_count": null,
   "metadata": {},
   "outputs": [
    {
     "name": "stdout",
     "output_type": "stream",
     "text": [
      "<class 'pandas.core.frame.DataFrame'>\n",
      "RangeIndex: 11 entries, 0 to 10\n",
      "Data columns (total 6 columns):\n",
      " #   Column         Non-Null Count  Dtype  \n",
      "---  ------         --------------  -----  \n",
      " 0   user_id        11 non-null     int64  \n",
      " 1   product_id     11 non-null     int64  \n",
      " 2   liked          11 non-null     bool   \n",
      " 3   view_duration  8 non-null      float64\n",
      " 4   source         11 non-null     object \n",
      " 5   timestamp      11 non-null     object \n",
      "dtypes: bool(1), float64(1), int64(2), object(2)\n",
      "memory usage: 579.0+ bytes\n"
     ]
    }
   ],
   "source": [
    "df.info()"
   ]
  },
  {
   "cell_type": "code",
   "execution_count": null,
   "metadata": {},
   "outputs": [],
   "source": [
    "mean = df['view_duration'].mean()\n",
    "df['view_duration'] = df['view_duration'].fillna(mean)\n",
    "# Alternative to use the same command in place:\n",
    "# df['view_duration'].fillna(mean, inplace = True)"
   ]
  },
  {
   "cell_type": "code",
   "execution_count": null,
   "metadata": {},
   "outputs": [
    {
     "data": {
      "text/plain": [
       "0     False\n",
       "1     False\n",
       "2     False\n",
       "3     False\n",
       "4      True\n",
       "5     False\n",
       "6     False\n",
       "7     False\n",
       "8     False\n",
       "9     False\n",
       "10    False\n",
       "dtype: bool"
      ]
     },
     "metadata": {},
     "output_type": "display_data"
    }
   ],
   "source": [
    "df.duplicated()"
   ]
  },
  {
   "cell_type": "code",
   "execution_count": null,
   "metadata": {},
   "outputs": [
    {
     "data": {
      "text/plain": [
       "1"
      ]
     },
     "metadata": {},
     "output_type": "display_data"
    }
   ],
   "source": [
    "sum(df.duplicated())"
   ]
  },
  {
   "cell_type": "code",
   "execution_count": null,
   "metadata": {},
   "outputs": [],
   "source": [
    "df.drop_duplicates(inplace=True)"
   ]
  },
  {
   "cell_type": "code",
   "execution_count": null,
   "metadata": {},
   "outputs": [],
   "source": [
    "df['timestamp'] = pd.to_datetime(df['timestamp'])"
   ]
  },
  {
   "cell_type": "code",
   "execution_count": null,
   "metadata": {},
   "outputs": [
    {
     "name": "stdout",
     "output_type": "stream",
     "text": [
      "<class 'pandas.core.frame.DataFrame'>\n",
      "Int64Index: 10 entries, 0 to 10\n",
      "Data columns (total 6 columns):\n",
      " #   Column         Non-Null Count  Dtype         \n",
      "---  ------         --------------  -----         \n",
      " 0   user_id        10 non-null     int64         \n",
      " 1   product_id     10 non-null     int64         \n",
      " 2   liked          10 non-null     bool          \n",
      " 3   view_duration  10 non-null     float64       \n",
      " 4   source         10 non-null     object        \n",
      " 5   timestamp      10 non-null     datetime64[ns]\n",
      "dtypes: bool(1), datetime64[ns](1), float64(1), int64(2), object(1)\n",
      "memory usage: 490.0+ bytes\n"
     ]
    }
   ],
   "source": [
    "df.info()"
   ]
  }
 ],
 "metadata": {
  "language_info": {
   "name": "python"
  }
 },
 "nbformat": 4,
 "nbformat_minor": 2
}
