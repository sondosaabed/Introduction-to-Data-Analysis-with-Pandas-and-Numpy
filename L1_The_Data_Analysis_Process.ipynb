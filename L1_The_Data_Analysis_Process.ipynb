{
 "cells": [
  {
   "cell_type": "markdown",
   "metadata": {},
   "source": [
    "# The Data Analysis Process"
   ]
  },
  {
   "cell_type": "markdown",
   "metadata": {},
   "source": [
    "## Step 1: Ask questions\n",
    "\n",
    "Either you're given data and ask questions based on it, or you ask questions first and gather data based on that later. In both cases, great questions help you focus on relevant parts of your data and direct your analysis toward meaningful insights.\n",
    "\n",
    "You will often return to this step multiple times over the course of your analysis.\n",
    "## Step 2: Wrangle data\n",
    "\n",
    "You get the data you need in a form you can work with in three steps: gather, assess, and clean. In other words, you:\n",
    "\n",
    "gather the data you need to answer your questions,\n",
    "assess your data to identify any problems in your data’s quality or structure, and\n",
    "clean your data by modifying, replacing, or removing data to ensure that your dataset is of the highest quality and as well-structured as possible.\n",
    "\n",
    "## Step 3: Perform EDA (Exploratory Data Analysis)\n",
    "\n",
    "You explore and then augment your data to maximize the potential of your analyses, visualizations, and models. Exploring involves finding patterns in your data and visualizing the relationships in your data. After exploring, you can do things like remove outliers and create better features from your data, also known as feature engineering.\n",
    "## Step 4: Draw conclusions\n",
    "\n",
    "This step is often approached with machine learning or inferential statistics techniques that are beyond the scope of this course. Check out the Data Scientist Nanodegree(opens in a new tab) if you're interested in learning more.\n",
    "\n",
    "In this course, you will focus on drawing conclusions with descriptive statistics and data visualizations.\n",
    "## Step 5: Communicate your results\n",
    "\n",
    "You often need to justify and convey meaning in the insights you’ve found. Or, if your end goal is to build a system, you usually need to share what you’ve built, explain how you reached design decisions, and report how well it performs. There are many ways to communicate your results: reports, slide decks, blog posts, emails, presentations, or even conversations. Data visualization will always be very valuable, and you will learn data visualization fundamentals in this course."
   ]
  },
  {
   "cell_type": "markdown",
   "metadata": {},
   "source": [
    "## NumPy\n",
    "\n",
    "    Used in scientific computing\n",
    "    Provides data structures and mathematical operations\n",
    "    Provides a set of core operations used in other packages\n",
    "\n",
    "## Pandas\n",
    "\n",
    "    Data manipulation and analysis library\n",
    "    Provides data structures and tools for working with structured data\n",
    "    Similar working with spreadsheets using code\n",
    "\n",
    "## Matplotlib\n",
    "\n",
    "    Plotting library\n",
    "    Provides a flexible and customizable environment for creating high-quality data visualizations"
   ]
  }
 ],
 "metadata": {
  "language_info": {
   "name": "python"
  }
 },
 "nbformat": 4,
 "nbformat_minor": 2
}
